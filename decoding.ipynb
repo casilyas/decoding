{
 "cells": [
  {
   "cell_type": "code",
   "execution_count": 5,
   "id": "f8a1e31b-fd93-4581-945c-95399d61fd63",
   "metadata": {},
   "outputs": [],
   "source": [
    "text = \"ütPKth,xmvQ,ütPK,-X.vDAvDPe,üDEKevyAThqyhM,oPAy,-DəveSqDhM,gDhşDSQPqyh,.D,öyPybyBqyh,KszePk,cQhQ,ütPKexDheh,ayPefe,eEvDP,hySePe,ZX.vQq,Oy.QEmBvQ,qsxebk,ZkOy.QEmBvQ,rtləQPexxDA,uyvÇ,dyPAexynThTh,nDqPe, ylyv, TvTzqyPmBvQhy,aeAybDh,ütPKexDheh,çSDPbyxfyhqyh,xyh,KszD,bevlDxDfDxehe,qsxebk,çSDPbyxfyhqyh,hD,enADxePneheSğ,çSDPbyxfyh,öyPybyBT,şsPe,yvyhqy,əDP,ftP,qDnADxe,.sPqeKk,CeSM,ADDnnt?,KeM,ütPKexD,çSDPbyxfyhT,qDnADKvDqe,qsqeheSk,çSDPbyxfyh,hexD,əDPb,lsxqyhThy,shqeğ,ÖS,AmPpyÇvyPThT,şsPe,yvlyÇ,tzthk,çSDPbyxfyh,iPlDhenAyhTh,AmPpyÇvyPThy,ətfQl,sAlDxeb,KeğM,ı,ütPKexDheh,ayPefe,nexynDA,eqyPDneheh,PDəbDPe, ylyv, TvTzqyPmBvQhy,aeAybDh,qsxebk,Oy.QEmBvQ,Çsxq,sqeb,KeM,bQ,şth,AtPK,qthxynT,ştfvtqtPk,ÖS,levve,ltqy?eD,nenAslvDPeleS,.yPk,-tElDhD,lXəAyf,qsxeveKk,çSDPbyxfyhqyh,hD,enADxePneheSğ,cQ,şth,ütPKexD,bXxtK,AtPK,qthxynThT,bePvDEqePePk,cQ,şth,ütPKexD,ütPK,-X.vDAvDPe,üDEKevyAThTh,yPSQnQhQM,xDhe,AtPK,qthxynThTh,bePvDElDK,yPSQnQhQ,əDxyAy,KszePDh,beP,XvKDqePk\""
   ]
  },
  {
   "cell_type": "code",
   "execution_count": 6,
   "id": "7ce95bdc-c18f-4449-8af1-b1d57885897f",
   "metadata": {
    "tags": []
   },
   "outputs": [
    {
     "data": {
      "text/plain": [
       "{'ü': 1.1554621848739497,\n",
       " 't': 3.256302521008404,\n",
       " 'P': 6.61764705882353,\n",
       " 'K': 2.73109243697479,\n",
       " 'h': 7.03781512605042,\n",
       " ',': 12.5,\n",
       " 'x': 3.9915966386554618,\n",
       " 'm': 0.8403361344537815,\n",
       " 'v': 3.571428571428571,\n",
       " 'Q': 2.5210084033613445,\n",
       " '-': 0.42016806722689076,\n",
       " 'X': 0.6302521008403361,\n",
       " '.': 0.9453781512605042,\n",
       " 'D': 6.722689075630252,\n",
       " 'A': 2.6260504201680672,\n",
       " 'e': 8.193277310924369,\n",
       " 'E': 0.9453781512605042,\n",
       " 'y': 7.773109243697479,\n",
       " 'T': 2.2058823529411766,\n",
       " 'q': 3.571428571428571,\n",
       " 'M': 0.7352941176470588,\n",
       " 'o': 0.10504201680672269,\n",
       " 'ə': 0.8403361344537815,\n",
       " 'S': 1.9957983193277309,\n",
       " 'g': 0.10504201680672269,\n",
       " 'ş': 0.7352941176470588,\n",
       " 'ö': 0.21008403361344538,\n",
       " 'b': 2.5210084033613445,\n",
       " 'B': 0.7352941176470588,\n",
       " 's': 1.7857142857142856,\n",
       " 'z': 0.6302521008403361,\n",
       " 'k': 1.365546218487395,\n",
       " 'c': 0.31512605042016806,\n",
       " 'a': 0.42016806722689076,\n",
       " 'f': 1.4705882352941175,\n",
       " 'Z': 0.21008403361344538,\n",
       " 'O': 0.31512605042016806,\n",
       " 'r': 0.10504201680672269,\n",
       " 'l': 1.680672268907563,\n",
       " 'u': 0.10504201680672269,\n",
       " 'Ç': 0.5252100840336135,\n",
       " 'd': 0.10504201680672269,\n",
       " 'n': 2.2058823529411766,\n",
       " ' ': 0.42016806722689076,\n",
       " 'ç': 0.7352941176470588,\n",
       " 'ğ': 0.42016806722689076,\n",
       " 'C': 0.10504201680672269,\n",
       " '?': 0.21008403361344538,\n",
       " 'Ö': 0.21008403361344538,\n",
       " 'p': 0.21008403361344538,\n",
       " 'i': 0.10504201680672269,\n",
       " 'ı': 0.10504201680672269}"
      ]
     },
     "execution_count": 6,
     "metadata": {},
     "output_type": "execute_result"
    }
   ],
   "source": [
    "def faizler(text1):\n",
    "    faiz=[]\n",
    "    elements=[]\n",
    "    for i in text1:\n",
    "        c=text.count(i)\n",
    "        elements.append(i)\n",
    "        faiz.append((c/int(len(text)))*100)\n",
    "    return dict(zip(elements,faiz))\n",
    "faizler(text)"
   ]
  },
  {
   "cell_type": "code",
   "execution_count": 7,
   "id": "f8f974f4-9e30-4292-95b2-3ff1dfa97cbb",
   "metadata": {},
   "outputs": [],
   "source": [
    "text3=\" Mən hesab edirəm ki, ilk növbədə, Rusiya ictimaiyyəti bundan xəbərdar oldu və Rusiya ictimaiyyətinin təkidi nəticəsində bu biabırçı aksiya baş tutmadı. Ancaq o da həqiqətdir ki, ilk dəfə olaraq, bu məsələni siyasi müstəviyə gətirən mən olmuşam. Mən əvvəlki illərdə də dəfələrlə bu erməni faşistləri haqqında öz çıxışlarımda məsələ qaldırmışdım. Beynəlxalq təşkilatlar qarşısında, ölkələr qarşısında məsələ qaldırmışdım ki, faşistlərin qəhrəmanlaşdırılmasına imkan vermək olmaz. Cəllad Njde ilə bağlı mən MDB Zirvə görüşünün birində öz çıxışımda məsələni qaldırdım. Dedim ki, Njdeyə Ermənistanın paytaxtında - İrəvanda qoyulan abidə faşizmin təbliğatıdır. Buna son qoyulmalıdır. Bu adam faşist olub. Bu adam cəllad olub. Bu adam günahsız azərbaycanlıların və ondan sonra İkinci Dünya müharibəsi zamanı sovet ordusunun əsgərlərini, zabitlərini qətlə yetirib. Bu Njde faşistdir və bunu hər kəs bilməlidir. Ancaq Ermənistanda onun qəhrəmanlaşdırılması gedir. Əgər bu, təkcə əvvəlki faşist hakimiyyətlə bağlı olsaydı, dərd yarı idi. Ancaq əfsuslar olsun ki, indiki Ermənistan hakimiyyəti faşistləri təbliğ edir, onları müdafiə edir. Moskvada ermənilərin diaspor təşkilatının xətti ilə bu dözülməz aksiyanın keçirilməsi heç bir çərçivəyə sığmır. Çünki Rusiya özü faşizmin qəhrəmanlaşdırılmasına qarşı gedən mübarizədə ön sıralardadır, Azərbaycan kimi. Bu məsələ ilə bağlı Rusiya tərəfi ilə dəfələrlə fikir mübadiləsi olub. Prezidentlər səviyyəsində, digər vəzifəli şəxslər səviyyəsində, ictimai təşkilatlar səviyyəsində biz həmfikirik. Faşizmin baş qaldırmasına yol vermək olmaz. İkinci Dünya müharibəsinin tarixi ilə bağlı təhrifetmə cəhdlərinə son qoyulmalıdır. Bu siyasət dünyanı uçuruma aparacaq. Faşizmi qəhrəmanlaşdırmaq olmaz. Amma bir tərəfdən Ermənistan rəsmən bu fikirlərə qoşulsa da, faktiki olaraq Njde kimi faşistin qəhrəmanlaşdırılması ilə bağlı konkret addımlar atır. Bu günə qədər Ermənistanda, İrəvanda faşist Njdenin adını daşıyan küçələr, meydanlar, metro stansiyası var, ona böyük - altımetrlik abidə qoyulub. Bu abidə bu günə qədər sökülməyib.\""
   ]
  },
  {
   "cell_type": "code",
   "execution_count": 8,
   "id": "d55b3df3-d4a9-4370-a5b5-7dd0d336821a",
   "metadata": {},
   "outputs": [],
   "source": [
    "text4=\"\"\"Təqdim edilən dərs vəsaitinin nəzəri təməlində informasiya nəzəriyyəsinin bir qolu olan statistik informasiya nəzəriyyəsi dayanır. Bu nəzəriyyənin əsas məzmununu təşkil edən\n",
    "məsələlərin sırasına mənbələrdə olan məlumatların qənaətlə\n",
    "kodlaşdırılması və uğultulu rabitə kanalları vasitəsilə etibarlı\n",
    "ötürülməsi kimi tədqiqat üsulları daxildir. Statistik informasiya\n",
    "nəzəriyyəsinin əsasında məlumatların mənbələrinin və rabitə\n",
    "kanallarının statistik təsviri (statistik modeli) durur. Klod\n",
    "Şennona görə, məlumatlar arasında informasiya miqdarının\n",
    "ölçüsü, yəni informasiyanın miqdarı məlumatların ehtimal\n",
    "xassələrinə görə müəyyən edilir və onların digər xüsusiyyətlərindən asılı deyildir. İnformasiyanın Şennon nəzəriyyəsinin\n",
    "mövzusu, adətən müxtəlif metodlarla məlumatların emalı və\n",
    "ötürülməsi imkanlarının son həddini müəyyən edir. Bu mümkün məhdudiyyətlər yalnız mənbələrin və kanalların statistik\n",
    "xassələrindən asılıdır.\n",
    "İnformasiyanın Şennon nəzəriyyəsinin məsələsi kimi\n",
    "aşağıdakı üç tipik nümunəni göstərmək olar:\n",
    "1. Fərz edək ki, məlumat mənbəyi verilmişdir. Mənbənin\n",
    "yaratdığı məlumatlar ardıcıllığını göstərmək üçün az sayda\n",
    "simvollar (məsələn, ikilik) ardıcıllığını tapmaq tələb olunur.\n",
    "Bununla belə, mənbə məlumatlarını bərpa edən zaman\n",
    "keyfiyyət meyarı müəyyən etmək olar və tələb etmək olar ki,\n",
    "göstərilən məlumatlar ardıcıllığının bərpası zamanı buraxılan\n",
    "səhvlər verilən meyara nisbətən kiçik olsun.\n",
    "2. Fərz edək ki, rabitə kanalı verilmişdir. Qəbul olunan\n",
    "məlumatların səhv olma ehtimalını kiçik edə bilən, bu kanalın\n",
    "maksimum ötürülmə sürətini tapmaq tələb olunur\n",
    "Hərbidə kod texniki rabitə vasitələri ilə hərbi xarakterli\n",
    "məxfi məlumatları gizli şəkildə vermək üçün işlədilən şərti\n",
    "işarələr sistemidir. Şərti işarələr rəqəmlərdən, hərflərdən və s.\n",
    "ibarət olub qərargahlarda tərtib edilir. Müəyyən müddət və ya\n",
    "döyüş vaxtı üçün tərtib olunmuş danışıq və radiosiqnal cədvəlləri\n",
    "ən sadə kod kimi işlədilir. Ümumqoşun və xüsusi (bir qoşun və ya\n",
    "silahlı qüvvələr növü üçün, məsələn, aviasiya, hərbi-dəniz və s.)\n",
    "kodlar vardır.\n",
    "\n",
    "\"\"\""
   ]
  },
  {
   "cell_type": "code",
   "execution_count": 9,
   "id": "03d60e2c-72a3-4db5-bb93-98a0777b0daf",
   "metadata": {
    "tags": []
   },
   "outputs": [
    {
     "data": {
      "text/plain": [
       "{'T': 2.2058823529411766,\n",
       " 'ə': 0.8403361344537815,\n",
       " 'q': 3.571428571428571,\n",
       " 'd': 0.10504201680672269,\n",
       " 'i': 0.10504201680672269,\n",
       " 'm': 0.8403361344537815,\n",
       " ' ': 0.42016806722689076,\n",
       " 'e': 8.193277310924369,\n",
       " 'l': 1.680672268907563,\n",
       " 'n': 2.2058823529411766,\n",
       " 'r': 0.10504201680672269,\n",
       " 's': 1.7857142857142856,\n",
       " 'v': 3.571428571428571,\n",
       " 'a': 0.42016806722689076,\n",
       " 't': 3.256302521008404,\n",
       " 'z': 0.6302521008403361,\n",
       " 'f': 1.4705882352941175,\n",
       " 'o': 0.10504201680672269,\n",
       " 'y': 7.773109243697479,\n",
       " 'b': 2.5210084033613445,\n",
       " 'u': 0.10504201680672269,\n",
       " 'k': 1.365546218487395,\n",
       " 'ı': 0.10504201680672269,\n",
       " '.': 0.9453781512605042,\n",
       " 'B': 0.7352941176470588,\n",
       " 'ş': 0.7352941176470588,\n",
       " '\\n': 0.0,\n",
       " 'ğ': 0.42016806722689076,\n",
       " 'ö': 0.21008403361344538,\n",
       " 'ü': 1.1554621848739497,\n",
       " 'x': 3.9915966386554618,\n",
       " 'S': 1.9957983193277309,\n",
       " '(': 0.0,\n",
       " ')': 0.0,\n",
       " 'K': 2.73109243697479,\n",
       " 'Ş': 0.0,\n",
       " 'g': 0.10504201680672269,\n",
       " ',': 12.5,\n",
       " 'ç': 0.7352941176470588,\n",
       " 'h': 7.03781512605042,\n",
       " 'İ': 0.0,\n",
       " 'p': 0.21008403361344538,\n",
       " ':': 0.0,\n",
       " '1': 0.0,\n",
       " 'F': 0.0,\n",
       " 'M': 0.7352941176470588,\n",
       " 'c': 0.31512605042016806,\n",
       " '2': 0.0,\n",
       " 'Q': 2.5210084033613445,\n",
       " 'H': 0.0,\n",
       " 'Ü': 0.0,\n",
       " '-': 0.42016806722689076}"
      ]
     },
     "execution_count": 9,
     "metadata": {},
     "output_type": "execute_result"
    }
   ],
   "source": [
    "faizler(text4)"
   ]
  },
  {
   "cell_type": "code",
   "execution_count": 10,
   "id": "cf7e70f5-2e70-4227-8499-5a8ef946e128",
   "metadata": {},
   "outputs": [],
   "source": [
    "dict_sorted=dict(sorted(faizler(text4).items(),key=lambda item :item[1],reverse=True))"
   ]
  },
  {
   "cell_type": "code",
   "execution_count": 11,
   "id": "ce31b53a-3296-42c8-8521-c30df26ad95b",
   "metadata": {
    "tags": []
   },
   "outputs": [
    {
     "name": "stdout",
     "output_type": "stream",
     "text": [
      "52\n"
     ]
    }
   ],
   "source": [
    "list4=list(dict_sorted.keys())\n",
    "print(len(list4))"
   ]
  },
  {
   "cell_type": "code",
   "execution_count": 12,
   "id": "38487cad-5a74-4f0b-ac53-c48914120730",
   "metadata": {},
   "outputs": [],
   "source": [
    "dict3= {\"a\":0.1026036225,\n",
    "    \"b\":0.02685326668,\n",
    "    \"c\":0.009929504745,\n",
    "    \"ç\":0.007354979016,\n",
    "    \"d\":0.04825416199,\n",
    "    \"e\":0.02442198917,\n",
    "    \"ə\":0.09873060496,\n",
    "    \"f\":0.00698312705,\n",
    "    \"g\":0.006719056622,\n",
    "    \"ğ\":0.004897483123,\n",
    "    \"h\":0.01230978278,\n",
    "    \"x\":0.00757926137,\n",
    "    \"ı\":0.03607176319,\n",
    "    \"i\":0.09991210517,\n",
    "    \"j\":0.0005526303576,\n",
    "    \"k\":0.02331409929,\n",
    "    \"q\":0.0174293031,\n",
    "    \"l\":0.06388114985,\n",
    "    \"m\":0.03931014263,\n",
    "    \"n\":0.07460426332,\n",
    "    \"o\":0.01946283374,\n",
    "    \"ö\":0.007517198669,\n",
    "    \"p\":0.005723252146,\n",
    "    \"r\":0.06967775896,\n",
    "    \"s\":0.03549433898,\n",
    "    \"ş\":0.01459346996,\n",
    "    \"t\":0.03518182016,\n",
    "    \"u\":0.02356978984,\n",
    "    \"ü\":0.0171353478,\n",
    "    \"v\":0.01458672655,\n",
    "    \"y\":0.03011464577,\n",
    "    \"z\":0.01523052051,\n",
    "    \" \":0.1226065642 }\n"
   ]
  },
  {
   "cell_type": "code",
   "execution_count": 13,
   "id": "6ac08cf7-e9f3-4c13-9ba8-9462e99c518b",
   "metadata": {},
   "outputs": [],
   "source": [
    "a=sum(dict3.values())\n",
    "faiz=[]\n",
    "for i in dict3:\n",
    "    faiz.append((dict3[i]/a)*100)\n",
    "dict4=dict(zip(dict3.keys(),faiz))\n"
   ]
  },
  {
   "cell_type": "code",
   "execution_count": 14,
   "id": "0d7cadb3-1b40-42e7-ad47-c6ec3c94b3b8",
   "metadata": {},
   "outputs": [],
   "source": [
    "\n",
    "dict_sorted=dict(sorted(faizler(text).items(),key=lambda item :item[1],reverse=True))\n",
    "dict_sorted2=dict(sorted(faizler(text4).items(),key=lambda item :item[1],reverse=True))\n",
    "sorted1=list(dict_sorted.keys())\n",
    "sorted2=list(dict_sorted2.keys())\n",
    "\n"
   ]
  },
  {
   "cell_type": "code",
   "execution_count": 21,
   "id": "b9bb19b5-7736-4221-a9cb-0fee4eef49b2",
   "metadata": {},
   "outputs": [
    {
     "name": "stdout",
     "output_type": "stream",
     "text": [
      "{',': [','], 'e': ['e', 'e'], 'y': ['y', 'y'], 'h': ['h', 'h'], 'D': ['x', 'x'], 'P': ['q', 'q'], 'x': ['v', 'v'], 'v': ['t', 't'], 'q': ['K', 'K'], 't': ['b', 'b'], 'K': ['Q', 'Q'], 'A': ['T', 'T'], 'Q': ['n', 'n'], 'b': ['S', 'S'], 'T': ['s', 's'], 'n': ['l', 'l'], 'S': ['f', 'f'], 's': ['k', 'k'], 'l': ['ü', 'ü'], 'f': ['.', '.'], 'k': ['ə', 'ə'], 'ü': ['m', 'm'], '.': ['B', 'B'], 'E': ['ş', 'ş'], 'm': ['ç', 'ç'], 'ə': ['M', 'M'], 'M': ['z', 'z'], 'ş': [' ', ' '], 'B': ['a', 'a'], 'ç': ['ğ', 'ğ'], 'X': ['-', '-'], 'z': ['c', 'c'], 'Ç': ['ö', 'ö'], '-': ['p', 'p'], 'a': ['d', 'd'], ' ': ['i', 'i'], 'ğ': ['r', 'r'], 'c': ['o', 'o'], 'O': ['u', 'u'], 'ö': ['ı', 'ı'], 'Z': ['g', 'g'], '?': ['\\n', '\\n'], 'Ö': ['(', '('], 'p': [')', ')'], 'o': ['Ş', 'Ş'], 'g': ['İ', 'İ'], 'r': [':', ':'], 'u': ['1', '1'], 'd': ['F', 'F'], 'C': ['2', '2'], 'i': ['H', 'H'], 'ı': ['Ü', 'Ü']}\n"
     ]
    }
   ],
   "source": [
    "dict5 = {}\n",
    "for i in range(len(dict_sorted)):\n",
    "    dict5[ sorted1[i] ] = [ sorted2[i] ]\n",
    "    if i > 0 and i<len(dict_sorted):\n",
    "        dict5[ sorted1[i] ].append( sorted2[i] )\n",
    "print(dict5)        "
   ]
  },
  {
   "cell_type": "code",
   "execution_count": null,
   "id": "6415dc13-40d8-429d-b8dc-b0bcf826d0fb",
   "metadata": {},
   "outputs": [],
   "source": []
  }
 ],
 "metadata": {
  "kernelspec": {
   "display_name": "Python 3 (ipykernel)",
   "language": "python",
   "name": "python3"
  },
  "language_info": {
   "codemirror_mode": {
    "name": "ipython",
    "version": 3
   },
   "file_extension": ".py",
   "mimetype": "text/x-python",
   "name": "python",
   "nbconvert_exporter": "python",
   "pygments_lexer": "ipython3",
   "version": "3.10.4"
  }
 },
 "nbformat": 4,
 "nbformat_minor": 5
}
